{
 "cells": [
  {
   "cell_type": "code",
   "execution_count": 1,
   "metadata": {},
   "outputs": [],
   "source": [
    "import metapack as mp\n",
    "import pandas as pd\n",
    "import numpy as np\n",
    "from IPython.display import display \n",
    "\n",
    "mp.jupyter.init()\n"
   ]
  },
  {
   "cell_type": "code",
   "execution_count": 2,
   "metadata": {},
   "outputs": [
    {
     "data": {
      "text/html": [
       "<h1>Monthly Foreign Currency Exchange Rates</h1>\n",
       "<p><code>bis.org-exchange_rates-2018e-1.1.4</code> Last Update: 2022-11-09T16:12:00</p>\n",
       "<p><em>Exchanges rates to US dollars, monthly, from 2018 on.</em></p>\n",
       "<h2>Documentation Links</h2>\n",
       "<ul>\n",
       "<li><a href=\"https://www.bis.org/statistics/xrusd.htm?m=2675\">US dollar exchange rates</a> </li>\n",
       "</ul>\n",
       "<h2>Contacts</h2>\n",
       "<ul>\n",
       "<li><strong>Wrangler</strong> <a href=\"mailto:eric@civicknowledge.com\">Eric Busboom</a>, <a href=\"http://civicknowledge.com\">Civic Knowledge</a></li>\n",
       "</ul>\n",
       "<h2>Resources</h2>\n",
       "<ul>\n",
       "<li><strong> <a href=\"notebooks/extract.ipynb#df\">monthly_exc_rates</a></strong>. Monthly exchange rates for selected currencies.</li>\n",
       "</ul>\n",
       "<h2>References</h2>\n",
       "<ul><li> <strong><a href=\"https://www.bis.org/statistics/full_xru_csv.zip\">monthly_exc_rates_source</a></strong>. </li><ul>"
      ],
      "text/plain": [
       "# Monthly Foreign Currency Exchange Rates\n",
       "`bis.org-exchange_rates-2018e-1.1.4` Last Update: 2022-11-09T16:12:00\n",
       "\n",
       "_Exchanges rates to US dollars, monthly, from 2018 on._\n",
       "\n",
       "\n",
       "## Documentation Links\n",
       "\n",
       "* [US dollar exchange rates](https://www.bis.org/statistics/xrusd.htm?m=2675) \n",
       "\n",
       " \n",
       "\n",
       "## Contacts\n",
       "\n",
       "* **Wrangler** [Eric Busboom](mailto:eric@civicknowledge.com), [Civic Knowledge](http://civicknowledge.com)\n",
       "\n",
       "## Resources\n",
       "\n",
       "* ** [monthly_exc_rates](notebooks/extract.ipynb#df)**. Monthly exchange rates for selected currencies.\n",
       "\n",
       "## References\n",
       "<ul><li> <strong><a href=\"https://www.bis.org/statistics/full_xru_csv.zip\">monthly_exc_rates_source</a></strong>. </li><ul>\n"
      ]
     },
     "execution_count": 2,
     "metadata": {},
     "output_type": "execute_result"
    }
   ],
   "source": [
    "pkg = mp.jupyter.open_source_package()\n",
    "pkg"
   ]
  },
  {
   "cell_type": "code",
   "execution_count": 3,
   "metadata": {},
   "outputs": [],
   "source": [
    "src = pkg.reference('monthly_exc_rates_source').dataframe()"
   ]
  },
  {
   "cell_type": "code",
   "execution_count": 4,
   "metadata": {},
   "outputs": [
    {
     "data": {
      "text/html": [
       "<div>\n",
       "<style scoped>\n",
       "    .dataframe tbody tr th:only-of-type {\n",
       "        vertical-align: middle;\n",
       "    }\n",
       "\n",
       "    .dataframe tbody tr th {\n",
       "        vertical-align: top;\n",
       "    }\n",
       "\n",
       "    .dataframe thead th {\n",
       "        text-align: right;\n",
       "    }\n",
       "</style>\n",
       "<table border=\"1\" class=\"dataframe\">\n",
       "  <thead>\n",
       "    <tr style=\"text-align: right;\">\n",
       "      <th></th>\n",
       "      <th>date</th>\n",
       "      <th>currency</th>\n",
       "      <th>conversion_factor_to_USD</th>\n",
       "    </tr>\n",
       "  </thead>\n",
       "  <tbody>\n",
       "    <tr>\n",
       "      <th>0</th>\n",
       "      <td>2018-01</td>\n",
       "      <td>ZMW</td>\n",
       "      <td>9.860</td>\n",
       "    </tr>\n",
       "    <tr>\n",
       "      <th>1</th>\n",
       "      <td>2018-02</td>\n",
       "      <td>ZMW</td>\n",
       "      <td>9.790</td>\n",
       "    </tr>\n",
       "    <tr>\n",
       "      <th>2</th>\n",
       "      <td>2018-03</td>\n",
       "      <td>ZMW</td>\n",
       "      <td>9.590</td>\n",
       "    </tr>\n",
       "    <tr>\n",
       "      <th>3</th>\n",
       "      <td>2018-04</td>\n",
       "      <td>ZMW</td>\n",
       "      <td>9.520</td>\n",
       "    </tr>\n",
       "    <tr>\n",
       "      <th>4</th>\n",
       "      <td>2018-05</td>\n",
       "      <td>ZMW</td>\n",
       "      <td>10.020</td>\n",
       "    </tr>\n",
       "    <tr>\n",
       "      <th>...</th>\n",
       "      <td>...</td>\n",
       "      <td>...</td>\n",
       "      <td>...</td>\n",
       "    </tr>\n",
       "    <tr>\n",
       "      <th>10416</th>\n",
       "      <td>2022-04</td>\n",
       "      <td>ERN</td>\n",
       "      <td>15.075</td>\n",
       "    </tr>\n",
       "    <tr>\n",
       "      <th>10417</th>\n",
       "      <td>2022-05</td>\n",
       "      <td>ERN</td>\n",
       "      <td>15.075</td>\n",
       "    </tr>\n",
       "    <tr>\n",
       "      <th>10418</th>\n",
       "      <td>2022-06</td>\n",
       "      <td>ERN</td>\n",
       "      <td>15.075</td>\n",
       "    </tr>\n",
       "    <tr>\n",
       "      <th>10419</th>\n",
       "      <td>2022-07</td>\n",
       "      <td>ERN</td>\n",
       "      <td>15.075</td>\n",
       "    </tr>\n",
       "    <tr>\n",
       "      <th>10420</th>\n",
       "      <td>2022-08</td>\n",
       "      <td>ERN</td>\n",
       "      <td>15.075</td>\n",
       "    </tr>\n",
       "  </tbody>\n",
       "</table>\n",
       "<p>10421 rows × 3 columns</p>\n",
       "</div>"
      ],
      "text/plain": [
       "          date currency  conversion_factor_to_USD\n",
       "0      2018-01      ZMW                     9.860\n",
       "1      2018-02      ZMW                     9.790\n",
       "2      2018-03      ZMW                     9.590\n",
       "3      2018-04      ZMW                     9.520\n",
       "4      2018-05      ZMW                    10.020\n",
       "...        ...      ...                       ...\n",
       "10416  2022-04      ERN                    15.075\n",
       "10417  2022-05      ERN                    15.075\n",
       "10418  2022-06      ERN                    15.075\n",
       "10419  2022-07      ERN                    15.075\n",
       "10420  2022-08      ERN                    15.075\n",
       "\n",
       "[10421 rows x 3 columns]"
      ]
     },
     "execution_count": 4,
     "metadata": {},
     "output_type": "execute_result"
    }
   ],
   "source": [
    "df = src[(src.Frequency == 'Monthly') & (src.Collection=='Average of observations through period')].copy()\n",
    "df = df.set_index('CURRENCY').loc[:,'2018-01':].stack().to_frame().reset_index()\n",
    "df.columns = ['currency','date','rate']\n",
    "df = df[['date','currency','rate']]\n",
    "df.columns =  ['date','currency','conversion_factor_to_USD']\n",
    "df"
   ]
  },
  {
   "cell_type": "code",
   "execution_count": null,
   "metadata": {},
   "outputs": [],
   "source": []
  }
 ],
 "metadata": {
  "kernelspec": {
   "display_name": "Python 3 (ipykernel)",
   "language": "python",
   "name": "python3"
  },
  "language_info": {
   "codemirror_mode": {
    "name": "ipython",
    "version": 3
   },
   "file_extension": ".py",
   "mimetype": "text/x-python",
   "name": "python",
   "nbconvert_exporter": "python",
   "pygments_lexer": "ipython3",
   "version": "3.10.6"
  }
 },
 "nbformat": 4,
 "nbformat_minor": 4
}
